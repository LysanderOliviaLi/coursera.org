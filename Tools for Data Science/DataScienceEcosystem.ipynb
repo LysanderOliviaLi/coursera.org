{
  "metadata": {
    "language_info": {
      "codemirror_mode": {
        "name": "python",
        "version": 3
      },
      "file_extension": ".py",
      "mimetype": "text/x-python",
      "name": "python",
      "nbconvert_exporter": "python",
      "pygments_lexer": "ipython3",
      "version": "3.8"
    },
    "kernelspec": {
      "name": "python",
      "display_name": "Python (Pyodide)",
      "language": "python"
    }
  },
  "nbformat_minor": 4,
  "nbformat": 4,
  "cells": [
    {
      "cell_type": "markdown",
      "source": "<h1>Data Science Tools and Ecosystem</h1>",
      "metadata": {
        "tags": [],
        "trusted": true
      }
    },
    {
      "cell_type": "code",
      "source": "### ordered list\nPython\n\nR\n\nSQL\n\nScala\n\nJava\n\nC++\n\nJulia\n\nJavaScriPHP\n\nGo\n\nRuby\n\nVisual Basic\n\n\n",
      "metadata": {
        "trusted": true
      },
      "execution_count": null,
      "outputs": []
    },
    {
      "cell_type": "markdown",
      "source": "Some of the popular languages that Data Scientists use are:\nPython\nR\nSQL\nScala\nJava\nC++\nJulia\nJavaScript\nPHP\nGo\nRuby\nVisual Basic",
      "metadata": {
        "trusted": true
      }
    },
    {
      "cell_type": "code",
      "source": "Some of the commonly used libraries used by Data Scientists include:\nPandas\nNumpy\nMatplotlib\nSeaborn\nScikit-learn\nKeras\nTensorFlow\nPyTorch\nApache Spark\nVegas\nBig DL\nGgplot2",
      "metadata": {
        "trusted": true
      },
      "execution_count": null,
      "outputs": []
    },
    {
      "cell_type": "code",
      "source": "Data Science Tools",
      "metadata": {
        "trusted": true
      },
      "execution_count": null,
      "outputs": []
    },
    {
      "cell_type": "markdown",
      "source": "Below are a few examples of evaluating arithmetic expressions in Python",
      "metadata": {
        "trusted": true
      }
    },
    {
      "cell_type": "markdown",
      "source": "This a simple arithmetic expression to mutiply then add integers",
      "metadata": {
        "trusted": true
      }
    },
    {
      "cell_type": "markdown",
      "source": "(3*4)+5=17",
      "metadata": {
        "trusted": true
      }
    },
    {
      "cell_type": "code",
      "source": "This will convert 200 minutes to hours by diving by 60",
      "metadata": {
        "trusted": true
      },
      "execution_count": null,
      "outputs": []
    },
    {
      "cell_type": "code",
      "source": "200 / 60",
      "metadata": {
        "trusted": true
      },
      "execution_count": null,
      "outputs": []
    },
    {
      "cell_type": "code",
      "source": "Objectives:unordered\nlistList popular\nlanguages for Data Science",
      "metadata": {
        "trusted": true
      },
      "execution_count": null,
      "outputs": []
    },
    {
      "cell_type": "code",
      "source": "<h2>Author<h2>\nstyle\nheadingnameAuthor",
      "metadata": {
        "trusted": true
      },
      "execution_count": null,
      "outputs": []
    }
  ]
}